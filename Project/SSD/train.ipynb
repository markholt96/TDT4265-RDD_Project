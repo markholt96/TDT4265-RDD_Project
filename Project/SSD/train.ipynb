{
 "cells": [
  {
   "cell_type": "code",
   "execution_count": 1,
   "metadata": {
    "scrolled": true
   },
   "outputs": [],
   "source": [
    "%load_ext autoreload"
   ]
  },
  {
   "cell_type": "code",
   "execution_count": 2,
   "metadata": {
    "scrolled": true
   },
   "outputs": [],
   "source": [
    "%autoreload \n",
    "import logging\n",
    "import os\n",
    "import pathlib\n",
    "import torch\n",
    "from ssd.engine.inference import do_evaluation\n",
    "from ssd.config.defaults import cfg\n",
    "from ssd.utils.logger import setup_logger\n",
    "from train import start_train"
   ]
  },
  {
   "cell_type": "code",
   "execution_count": 3,
   "metadata": {
    "scrolled": false
   },
   "outputs": [
    {
     "name": "stdout",
     "output_type": "stream",
     "text": [
      "2021-04-20 04:50:47,459 SSD INFO: Loaded configuration file configs/train_tdt4265.yaml\n",
      "2021-04-20 04:50:47,461 SSD INFO: \n",
      "MODEL:\n",
      "    NUM_CLASSES: 5\n",
      "    BACKBONE:\n",
      "        NAME: 'basic'\n",
      "        PRETRAINED: False\n",
      "        OUT_CHANNELS: [128, 256, 128, 128, 64, 64]\n",
      "        INPUT_CHANNELS: 3\n",
      "\n",
      "INPUT:\n",
      "    IMAGE_SIZE: [300, 300]\n",
      "DATASETS:\n",
      "    TRAIN: (\"tdt4265_train\",)\n",
      "    TEST: (\"tdt4265_val\", )\n",
      "SOLVER:\n",
      "    MAX_ITER: 120000\n",
      "    GAMMA: 0.1\n",
      "    BATCH_SIZE: 16\n",
      "    LR: 2e-3\n",
      "    AMSGRAD: True\n",
      "    WEIGHT_DECAY: 5e-4\n",
      "EVAL_STEP: 1500\n",
      "MODEL_SAVE_STEP: 5000\n",
      "OUTPUT_DIR: 'outputs/rdd2020_2'\n",
      "DATASET_DIR: \"datasets\"\n",
      "\n",
      "2021-04-20 04:50:47,462 SSD INFO: Running with config:\n",
      "DATASETS:\n",
      "  TEST: ('tdt4265_val',)\n",
      "  TRAIN: ('tdt4265_train',)\n",
      "DATASET_DIR: datasets\n",
      "DATA_LOADER:\n",
      "  NUM_WORKERS: 4\n",
      "  PIN_MEMORY: True\n",
      "EVAL_STEP: 1500\n",
      "INPUT:\n",
      "  IMAGE_SIZE: [300, 300]\n",
      "  PIXEL_MEAN: [123.675, 116.28, 103.53]\n",
      "  PIXEL_STD: [1, 1, 1]\n",
      "LOG_STEP: 10\n",
      "MODEL:\n",
      "  BACKBONE:\n",
      "    INPUT_CHANNELS: 3\n",
      "    NAME: basic\n",
      "    OUT_CHANNELS: (128, 256, 128, 128, 64, 64)\n",
      "    PRETRAINED: False\n",
      "  CENTER_VARIANCE: 0.1\n",
      "  NEG_POS_RATIO: 3\n",
      "  NUM_CLASSES: 5\n",
      "  PRIORS:\n",
      "    ASPECT_RATIOS: [[2], [2, 3], [2, 3], [2, 3], [2], [2]]\n",
      "    BOXES_PER_LOCATION: [4, 6, 6, 6, 4, 4]\n",
      "    CLIP: True\n",
      "    FEATURE_MAPS: [[38, 38], [19, 19], [10, 10], [5, 5], [3, 3], [1, 1]]\n",
      "    MAX_SIZES: [[60, 60], [111, 111], [162, 162], [213, 213], [264, 264], [315, 315]]\n",
      "    MIN_SIZES: [[30, 30], [60, 60], [111, 111], [162, 162], [213, 213], [264, 264]]\n",
      "    STRIDES: [[8, 8], [16, 16], [32, 32], [64, 64], [100, 100], [300, 300]]\n",
      "  SIZE_VARIANCE: 0.2\n",
      "  THRESHOLD: 0.5\n",
      "MODEL_SAVE_STEP: 5000\n",
      "OUTPUT_DIR: outputs/rdd2020_2\n",
      "SOLVER:\n",
      "  AMSGRAD: True\n",
      "  BATCH_SIZE: 16\n",
      "  GAMMA: 0.1\n",
      "  LR: 0.002\n",
      "  MAX_ITER: 120000\n",
      "  MOMENTUM: 0.9\n",
      "  WEIGHT_DECAY: 0.0005\n",
      "TEST:\n",
      "  BATCH_SIZE: 10\n",
      "  CONFIDENCE_THRESHOLD: 0.01\n",
      "  MAX_PER_CLASS: -1\n",
      "  MAX_PER_IMAGE: 100\n",
      "  NMS_THRESHOLD: 0.45\n"
     ]
    }
   ],
   "source": [
    "config_file = \"configs/train_tdt4265.yaml\"\n",
    "\n",
    "cfg.merge_from_file(config_file)\n",
    "cfg.freeze()\n",
    "output_dir = pathlib.Path(cfg.OUTPUT_DIR)\n",
    "output_dir.mkdir(exist_ok=True, parents=True)\n",
    "\n",
    "logger = setup_logger(\"SSD\", output_dir)\n",
    "\n",
    "logger.info(\"Loaded configuration file {}\".format(config_file))\n",
    "with open(config_file, \"r\") as cf:\n",
    "    config_str = \"\\n\" + cf.read()\n",
    "    logger.info(config_str)\n",
    "logger.info(\"Running with config:\\n{}\".format(cfg))\n"
   ]
  },
  {
   "cell_type": "code",
   "execution_count": null,
   "metadata": {
    "scrolled": false
   },
   "outputs": [
    {
     "name": "stdout",
     "output_type": "stream",
     "text": [
      "Detector initialized. Total Number of params:  2.99M\n",
      "Backbone number of parameters: 2.66M\n",
      "SSD Head number of parameters: 332.0K\n",
      "2021-04-20 04:50:49,860 SSD.trainer INFO: No checkpoint found.\n",
      "Dataset loaded. Subset: train, number of images: 16661\n",
      "2021-04-20 04:50:53,479 SSD.trainer INFO: Start training ...\n"
     ]
    }
   ],
   "source": [
    "model = start_train(cfg)"
   ]
  },
  {
   "cell_type": "code",
   "execution_count": null,
   "metadata": {
    "scrolled": true
   },
   "outputs": [],
   "source": [
    "logger.info('Start evaluating...')\n",
    "torch.cuda.empty_cache()  # speed up evaluating after training finished\n",
    "do_evaluation(cfg, model)"
   ]
  }
 ],
 "metadata": {
  "kernelspec": {
   "display_name": "Python 3",
   "language": "python",
   "name": "python3"
  },
  "language_info": {
   "codemirror_mode": {
    "name": "ipython",
    "version": 3
   },
   "file_extension": ".py",
   "mimetype": "text/x-python",
   "name": "python",
   "nbconvert_exporter": "python",
   "pygments_lexer": "ipython3",
   "version": "3.8.5"
  }
 },
 "nbformat": 4,
 "nbformat_minor": 4
}
